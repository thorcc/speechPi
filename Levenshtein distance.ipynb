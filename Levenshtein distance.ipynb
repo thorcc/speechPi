{
 "cells": [
  {
   "cell_type": "markdown",
   "metadata": {},
   "source": [
    "https://en.wikipedia.org/wiki/Levenshtein_distance"
   ]
  },
  {
   "cell_type": "code",
   "execution_count": 14,
   "metadata": {},
   "outputs": [],
   "source": [
    "def levenshteinDistance(s,len_s,t,len_t):\n",
    "    #len_s and len_t are the number of characters in string s and t respectively\n",
    "    cost = 0\n",
    "    \n",
    "    # Empty strings\n",
    "    if len_s == 0: return len_t\n",
    "    if len_t == 0: return len_s\n",
    "\n",
    "    # Test if last characters of the strings match\n",
    "    if s[len_s-1] == t[len_t-1]:\n",
    "        cost = 0\n",
    "    else:\n",
    "        cost = 1\n",
    "    \n",
    "    # return minimum of delete char from s, delete char from t, and delete char from both\n",
    "    return min(levenshteinDistance(s,len_s-1,t,len_t)+1,levenshteinDistance(s,len_s,t,len_t-1)+1,levenshteinDistance(s,len_s-1,t,len_t-1)+cost)\n"
   ]
  },
  {
   "cell_type": "code",
   "execution_count": 13,
   "metadata": {},
   "outputs": [
    {
     "data": {
      "text/plain": [
       "3"
      ]
     },
     "execution_count": 13,
     "metadata": {},
     "output_type": "execute_result"
    }
   ],
   "source": [
    "a = \"abc\"\n",
    "b = \"cde\"\n",
    "levenshteinDistance(a,len(a),b,len(b))"
   ]
  }
 ],
 "metadata": {
  "kernelspec": {
   "display_name": "Python 3",
   "language": "python",
   "name": "python3"
  },
  "language_info": {
   "codemirror_mode": {
    "name": "ipython",
    "version": 3
   },
   "file_extension": ".py",
   "mimetype": "text/x-python",
   "name": "python",
   "nbconvert_exporter": "python",
   "pygments_lexer": "ipython3",
   "version": "3.6.5"
  }
 },
 "nbformat": 4,
 "nbformat_minor": 2
}
