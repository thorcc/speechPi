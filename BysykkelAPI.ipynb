{
 "cells": [
  {
   "cell_type": "code",
   "execution_count": 8,
   "metadata": {
    "scrolled": true
   },
   "outputs": [],
   "source": [
    "import requests\n",
    "\n",
    "# Speech to text\n",
    "import speech_recognition as sr \n",
    "r = sr.Recognizer()\n",
    "mic = sr.Microphone()\n",
    "sr.Microphone.list_microphone_names()\n",
    "\n",
    "# Text to speech\n",
    "from gtts import gTTS\n",
    "from io import BytesIO\n",
    "\n",
    "# For playing mp3 through the terminal\n",
    "import os\n",
    "\n",
    "# For string-matching\n",
    "from fuzzywuzzy import fuzz\n",
    "\n",
    "def vis_alle_holdeplasser():\n",
    " holdeplasser = []\n",
    " raw_response = requests.get('https://oslobysykkel.no/api/v1/stations', headers={'Client-Identifier': '15111a56c5b41b49f82d98a9595be3c3'})\n",
    " response = raw_response.json()\n",
    " for station in response[\"stations\"]:\n",
    "    holdeplasser.append(station[\"title\"])\n",
    " return holdeplasser\n",
    "\n",
    "def holdeplass_id(navn):\n",
    " raw_response = requests.get('https://oslobysykkel.no/api/v1/stations', headers={'Client-Identifier': '15111a56c5b41b49f82d98a9595be3c3'})\n",
    " response = raw_response.json()\n",
    " for station in response[\"stations\"]:\n",
    "    if(station[\"title\"]==navn):\n",
    "        return station[\"id\"]\n",
    "    \n",
    "def antall_ledig_sykler(stopp):\n",
    " id = holdeplass_id(stopp)\n",
    " raw_response = requests.get('https://oslobysykkel.no/api/v1/stations/availability/', headers={'Client-Identifier': '15111a56c5b41b49f82d98a9595be3c3'})\n",
    " response = raw_response.json()\n",
    " #print(response)\n",
    " for station in response[\"stations\"]:\n",
    "    if(station[\"id\"]==id):\n",
    "        return station[\"availability\"][\"bikes\"]\n",
    "\n",
    "def tipp_holdeplass(tale):\n",
    "    high_score = 0\n",
    "    beste_holdeplass = \"\"\n",
    "    for holdeplass in vis_alle_holdeplasser():\n",
    "        score = fuzz.ratio(holdeplass, tale)\n",
    "        if score > high_score:\n",
    "            high_score = score\n",
    "            beste_holdeplass = holdeplass\n",
    "    return beste_holdeplass, score\n",
    "\n",
    "def speech_to_string():    \n",
    "    print(\"Mic start\")\n",
    "    print(\"Snakk nå\")\n",
    "    with mic as source:\n",
    "        audio = r.listen(source)\n",
    "    print(\"Mic done\")\n",
    "    return r.recognize_google(audio, language='no')\n",
    "\n",
    "def string_to_bikestop(string):\n",
    "    holdeplass = tipp_holdeplass(string)\n",
    "    print(\"Jeg er \" + str(holdeplass[1]) + \"% sikker på at du mener \", holdeplass[0])\n",
    "    return holdeplass[0]\n",
    "\n",
    "def bikestop_to_printText(bikestop):\n",
    "    free_bikes = antall_ledig_sykler(bikestop)\n",
    "    if free_bikes == 0:\n",
    "        free_bikes = \"ingen\"\n",
    "    return str(free_bikes) + \" ledige sykler i \" + bikestop\n",
    "\n",
    "def string_to_mp3_save(string,filename):\n",
    "    # String to mp3\n",
    "    mp3_fp = BytesIO()\n",
    "    tts = gTTS(string, 'no')\n",
    "    tts.save(filename)\n",
    "\n",
    "def play_mp3_mac(filename):\n",
    "    file = filename\n",
    "    os.system(\"afplay \" + file)\n",
    "\n",
    "def play_mp3_linux(filename):\n",
    "    # apt install mpg123\n",
    "    file = filename\n",
    "    os.system(\"mpg123 \" + file)"
   ]
  },
  {
   "cell_type": "code",
   "execution_count": 9,
   "metadata": {},
   "outputs": [
    {
     "name": "stdout",
     "output_type": "stream",
     "text": [
      "Mic start\n",
      "Snakk nå\n",
      "Mic done\n",
      "Jeg er 18% sikker på at du mener  Badebakken\n"
     ]
    }
   ],
   "source": [
    "def program():\n",
    "    tale = speech_to_string()\n",
    "    stopp = string_to_bikestop(tale)\n",
    "    tekst = bikestop_to_printText(stopp)\n",
    "    filnavn = \"bysykkel.mp3\"\n",
    "    string_to_mp3_save(tekst,filnavn)\n",
    "    play_mp3_mac(filnavn)\n"
   ]
  },
  {
   "cell_type": "code",
   "execution_count": 60,
   "metadata": {},
   "outputs": [],
   "source": [
    "# Alt for treig....\n",
    "\n",
    "def levenshteinDistance(s,len_s,t,len_t):\n",
    "    #https://en.wikipedia.org/wiki/Levenshtein_distance\n",
    "    #len_s and len_t are the number of characters in string s and t respectively\n",
    "    cost = 0\n",
    "    \n",
    "    # Empty strings\n",
    "    if len_s == 0: return len_t\n",
    "    if len_t == 0: return len_s\n",
    "\n",
    "    # Test if last characters of the strings match\n",
    "    if s[len_s-1] == t[len_t-1]:\n",
    "        cost = 0\n",
    "    else:\n",
    "        cost = 1\n",
    "    \n",
    "    # return minimum of delete char from s, delete char from t, and delete char from both\n",
    "    return min(levenshteinDistance(s,len_s-1,t,len_t)+1,levenshteinDistance(s,len_s,t,len_t-1)+1,levenshteinDistance(s,len_s-1,t,len_t-1)+cost)\n"
   ]
  },
  {
   "cell_type": "code",
   "execution_count": 76,
   "metadata": {},
   "outputs": [
    {
     "data": {
      "text/plain": [
       "3"
      ]
     },
     "execution_count": 76,
     "metadata": {},
     "output_type": "execute_result"
    }
   ],
   "source": [
    "a = \"bade\"\n",
    "b = \"advo\"\n",
    "levenshteinDistance(a,len(a),b,len(b))"
   ]
  }
 ],
 "metadata": {
  "kernelspec": {
   "display_name": "Python 3",
   "language": "python",
   "name": "python3"
  },
  "language_info": {
   "codemirror_mode": {
    "name": "ipython",
    "version": 3
   },
   "file_extension": ".py",
   "mimetype": "text/x-python",
   "name": "python",
   "nbconvert_exporter": "python",
   "pygments_lexer": "ipython3",
   "version": "3.6.5"
  }
 },
 "nbformat": 4,
 "nbformat_minor": 2
}
