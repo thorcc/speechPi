{
 "cells": [
  {
   "cell_type": "code",
   "execution_count": 4,
   "metadata": {
    "scrolled": true
   },
   "outputs": [],
   "source": [
    "import requests\n",
    "\n",
    "def vis_alle_holdeplasser():\n",
    " holdeplasser = []\n",
    " raw_response = requests.get('https://oslobysykkel.no/api/v1/stations', headers={'Client-Identifier': '15111a56c5b41b49f82d98a9595be3c3'})\n",
    " response = raw_response.json()\n",
    " for station in response[\"stations\"]:\n",
    "    holdeplasser.append(station[\"title\"])\n",
    " return holdeplasser\n",
    "\n",
    "def holdeplass_id(navn):\n",
    " raw_response = requests.get('https://oslobysykkel.no/api/v1/stations', headers={'Client-Identifier': '15111a56c5b41b49f82d98a9595be3c3'})\n",
    " response = raw_response.json()\n",
    " for station in response[\"stations\"]:\n",
    "    if(station[\"title\"]==navn):\n",
    "        return station[\"id\"]\n",
    "    \n",
    "def antall_ledig_sykler(stopp):\n",
    " id = holdeplass_id(stopp)\n",
    " raw_response = requests.get('https://oslobysykkel.no/api/v1/stations/availability/', headers={'Client-Identifier': '15111a56c5b41b49f82d98a9595be3c3'})\n",
    " response = raw_response.json()\n",
    " #print(response)\n",
    " for station in response[\"stations\"]:\n",
    "    if(station[\"id\"]==id):\n",
    "        return station[\"availability\"][\"bikes\"]"
   ]
  },
  {
   "cell_type": "code",
   "execution_count": 8,
   "metadata": {},
   "outputs": [
    {
     "data": {
      "text/plain": [
       "['Nylandsveien',\n",
       " 'Bentsebrugata',\n",
       " 'Hans Nielsen Hauges plass',\n",
       " 'Sjøsiden vest',\n",
       " 'St. Hanshaugen park vest',\n",
       " 'Arkitekt Rivertz Plass',\n",
       " 'Vaterlandsparken',\n",
       " 'Vår Frelsers gravlund sør',\n",
       " 'Bjølsen Studentby',\n",
       " 'Pilestredet Studenthus',\n",
       " 'Sirkustomta',\n",
       " 'Bogstadveien',\n",
       " 'Slemdalsveien',\n",
       " 'John Colletts plass',\n",
       " 'Legevakten',\n",
       " 'Grønlands torg',\n",
       " 'Stensgata',\n",
       " 'Tøyenparken',\n",
       " 'Colosseum Kino',\n",
       " 'Carl Berners plass sør',\n",
       " 'Lørenveien',\n",
       " 'Kirkeristen',\n",
       " 'Sagene bussholdeplass',\n",
       " 'Storo Storsenter',\n",
       " 'HiOA',\n",
       " 'Lodalen busstopp',\n",
       " 'Majorstuen',\n",
       " 'Parkveien',\n",
       " 'Jakob kirke',\n",
       " 'Spikersuppa Øst',\n",
       " 'Oslo Handelsgymnasium',\n",
       " 'Oslo Hospital',\n",
       " 'Saga Kino',\n",
       " 'Ringnes Park',\n",
       " 'Uelands gate',\n",
       " 'Hallings gate',\n",
       " 'Studenterlunden',\n",
       " 'Tøyen skole',\n",
       " 'Munkegata trikkestopp',\n",
       " 'Uranienborgparken',\n",
       " 'Paléhaven',\n",
       " 'Norsk Folkemuseum',\n",
       " 'St. Hanshaugen',\n",
       " 'Botanisk Hage vest',\n",
       " 'Hammersborg Torg',\n",
       " 'Frognerbadet',\n",
       " 'Birkelunden',\n",
       " 'Hasle Torg',\n",
       " 'Torshovparken vest',\n",
       " 'Schous plass',\n",
       " 'Bjølsendumpa',\n",
       " 'Adamstuen',\n",
       " 'Briskeby',\n",
       " 'Gimle Kino',\n",
       " 'Kontraskjæret',\n",
       " 'Tannlegehøyskolen',\n",
       " 'Olaf Ryes plass',\n",
       " 'Vestkanttorvet',\n",
       " 'Lindern',\n",
       " 'Sinsenveien',\n",
       " 'Fredensborg',\n",
       " 'St. Hanshaugen park sør',\n",
       " 'AHO',\n",
       " 'Schous plass',\n",
       " 'Thune',\n",
       " 'BI Nydalen',\n",
       " 'Fram-gården',\n",
       " 'Alexander Kiellands Plass',\n",
       " 'Spikersuppa Vest',\n",
       " 'Vulkan',\n",
       " 'Storgata',\n",
       " 'Lilleborgbanen',\n",
       " 'Hasle',\n",
       " 'Bygdøy allé',\n",
       " 'Sommerfrydhagen',\n",
       " 'Sentrum Scene',\n",
       " 'Furulund',\n",
       " 'Kværnerbyen',\n",
       " 'Sofienbergparken sør',\n",
       " 'Sjøsiden øst',\n",
       " 'Vippetangen øst',\n",
       " 'Jordalgata',\n",
       " 'Hallénparken',\n",
       " 'Sjølyst',\n",
       " 'Frogner Stadion',\n",
       " 'Chr. Michelsens Gate',\n",
       " 'Huk',\n",
       " 'Finnmarksgata',\n",
       " 'Suhms gate',\n",
       " 'Frognerstranda',\n",
       " 'Hydroparken',\n",
       " 'Elisenberg',\n",
       " 'Carl Berners plass nord',\n",
       " 'Botanisk Hage sør',\n",
       " 'Bislett Stadion',\n",
       " 'Stensparken',\n",
       " 'Ullevålsalléen',\n",
       " 'Jenny Braatens Plass',\n",
       " 'Jernbanetorget',\n",
       " 'Sukkerbiten',\n",
       " 'Ruseløkkgården',\n",
       " 'Helga Helgesens plass',\n",
       " 'Vippetangen vest',\n",
       " 'Bankplassen',\n",
       " 'Studentparlamentet',\n",
       " 'Oslo Plaza',\n",
       " 'Marienlyst',\n",
       " 'Galgeberg',\n",
       " 'Edvard Storms gate',\n",
       " 'Vålerenga',\n",
       " 'Skillebekk',\n",
       " 'St. Hanshaugen park nord',\n",
       " 'Tjuvholmen',\n",
       " 'Karenlyst allé',\n",
       " 'Torggata',\n",
       " 'Hausmanns gate',\n",
       " 'Bjerregaards gate',\n",
       " 'Bjørvika',\n",
       " 'Majorstuveien',\n",
       " 'Valkyrieplassen',\n",
       " 'Arendalsgata',\n",
       " 'Rådhusgata',\n",
       " 'Nydalen',\n",
       " 'Fysikkbygningen',\n",
       " 'Georg Morgenstiernes hus',\n",
       " 'Møllergata',\n",
       " 'Blindern studentparkering',\n",
       " 'Bak Niels Treschows hus nord',\n",
       " 'Ullevål sykehus',\n",
       " 'Jens Bjelkes gate',\n",
       " 'HasleLinje',\n",
       " 'Bøkkerveien',\n",
       " 'Fagerheimgata',\n",
       " 'Anker Hostel',\n",
       " 'Marienlystparken',\n",
       " 'Henrik Ibsens gate',\n",
       " \"Krebs' gate\",\n",
       " 'Sofienberggata',\n",
       " 'Majorstuen t-bane',\n",
       " 'Diakonhjemmet',\n",
       " 'Slottsparken Øst',\n",
       " 'Olav Vs gate',\n",
       " 'Kjeld Stubs gate',\n",
       " 'Bryn T-Bane',\n",
       " 'Mandalls gate',\n",
       " 'Kampen park Øst',\n",
       " 'Tøyenbekken',\n",
       " 'Myraløkka Øst',\n",
       " 'Tåsenløkka',\n",
       " 'Pilestredet',\n",
       " 'Ullevålsveien',\n",
       " 'Jess Carlsens gate',\n",
       " 'Filipstadveien',\n",
       " 'Thomas Heftyes plass',\n",
       " 'Volvat',\n",
       " 'Uranienborgveien',\n",
       " 'Sørvest for Slottsparken',\n",
       " 'Rolf Wickstrøms vei',\n",
       " 'Skippergata',\n",
       " 'St. Olavs gate',\n",
       " 'Lille Grensen',\n",
       " 'Linaaes gate',\n",
       " 'Skråninga',\n",
       " 'Bernt Ankers gate',\n",
       " 'Friggfeltet',\n",
       " \"Biskop Gunnerus' gate\",\n",
       " 'Langkaia',\n",
       " 'Thereses gate',\n",
       " 'Arkaden Sør',\n",
       " 'Hoffsveien',\n",
       " 'Colbjørnsens gate',\n",
       " 'Gaustad T-bane',\n",
       " 'Annette Thommessens Plass',\n",
       " 'Fyrstikktorget',\n",
       " 'Tåsen Senter',\n",
       " 'Munkedamsveien',\n",
       " 'Kirkeveien',\n",
       " 'Tordenskiolds gate',\n",
       " 'Griffenfeldts gate',\n",
       " 'Trelastgata',\n",
       " 'Dokkveien',\n",
       " 'Huitfeldts gate',\n",
       " 'Grünerhagen Nord',\n",
       " 'Akersgata',\n",
       " 'Skarpsnoparken',\n",
       " 'Stavangergata',\n",
       " 'Forskningsveien',\n",
       " 'Sognsveien',\n",
       " 'Jarlsborgveien',\n",
       " 'Hoff terrasse holdeplass',\n",
       " 'Skøyen',\n",
       " 'Københavngata busstopp',\n",
       " 'Riddervoldplass',\n",
       " 'Oscars gate',\n",
       " 'Frøen T-bane',\n",
       " 'Arkaden Nord',\n",
       " 'Botanisk hage sør-vest',\n",
       " 'Frognerveien',\n",
       " 'Meltzers gate',\n",
       " 'Over Rådhusgata',\n",
       " 'Mailundveien',\n",
       " 'Nordre gate',\n",
       " 'Badebakken',\n",
       " 'Grenseveien',\n",
       " 'Skovveien',\n",
       " 'Rådhusbrygge 4',\n",
       " 'Mølleparken',\n",
       " 'Lakkegata',\n",
       " 'Schous plass trikkestopp',\n",
       " 'Hausmanns bru',\n",
       " 'Dyvekes bru',\n",
       " 'Ensjøveien',\n",
       " 'Vaterlandsparken II',\n",
       " 'Sofienbergparken nordvest',\n",
       " 'Goethe Institut',\n",
       " 'Holbergs Plass',\n",
       " 'Bjølsen mølle',\n",
       " 'Colletts gate',\n",
       " 'Frogner plass',\n",
       " 'Majorstua skole',\n",
       " 'Sotahjørnet',\n",
       " 'Fred Olsens gate',\n",
       " 'Bjerregaardsgate Øst',\n",
       " 'Bislettgata',\n",
       " 'Schives gate',\n",
       " 'Pilestredet 63',\n",
       " 'Torshovdalen øst',\n",
       " 'Bak Niels Treschows hus sør',\n",
       " 'Salt',\n",
       " 'Sinsen T-bane',\n",
       " 'Dælenenggata',\n",
       " 'Drammensveien',\n",
       " '7 Juni Plassen',\n",
       " 'Skøyen Stasjon',\n",
       " 'Kirkegata 15']"
      ]
     },
     "execution_count": 8,
     "metadata": {},
     "output_type": "execute_result"
    }
   ],
   "source": [
    "vis_alle_holdeplasser()"
   ]
  },
  {
   "cell_type": "code",
   "execution_count": 7,
   "metadata": {},
   "outputs": [
    {
     "data": {
      "text/plain": [
       "0"
      ]
     },
     "execution_count": 7,
     "metadata": {},
     "output_type": "execute_result"
    }
   ],
   "source": [
    "antall_ledig_sykler(\"Badebakken\")"
   ]
  },
  {
   "cell_type": "code",
   "execution_count": 9,
   "metadata": {},
   "outputs": [
    {
     "name": "stdout",
     "output_type": "stream",
     "text": [
      "Bentsebrugata 1\n",
      "Sjøsiden vest 8\n",
      "Lørenveien 1\n",
      "Sagene bussholdeplass 1\n",
      "HiOA 1\n",
      "Majorstuen 1\n",
      "Jakob kirke 1\n",
      "Studenterlunden 1\n",
      "Munkegata trikkestopp 1\n",
      "Paléhaven 32\n",
      "Kontraskjæret 1\n",
      "Olaf Ryes plass 1\n",
      "St. Hanshaugen park sør 1\n",
      "AHO 1\n",
      "Sjøsiden øst 6\n",
      "Bislett Stadion 1\n",
      "Sukkerbiten 1\n",
      "Helga Helgesens plass 1\n",
      "Bankplassen 2\n",
      "Tjuvholmen 1\n",
      "Torggata 1\n",
      "Bjørvika 1\n",
      "Akersgata 1\n",
      "Rådhusbrygge 4 1\n",
      "Schous plass trikkestopp 1\n",
      "Fred Olsens gate 1\n",
      "Bjerregaardsgate Øst 1\n"
     ]
    }
   ],
   "source": [
    "for holdeplass in vis_alle_holdeplasser():\n",
    "    if(antall_ledig_sykler(holdeplass)>0):\n",
    "        print(holdeplass, antall_ledig_sykler(holdeplass))"
   ]
  },
  {
   "cell_type": "code",
   "execution_count": 11,
   "metadata": {},
   "outputs": [],
   "source": [
    "import speech_recognition as sr "
   ]
  },
  {
   "cell_type": "code",
   "execution_count": 12,
   "metadata": {},
   "outputs": [
    {
     "data": {
      "text/plain": [
       "'3.8.1'"
      ]
     },
     "execution_count": 12,
     "metadata": {},
     "output_type": "execute_result"
    }
   ],
   "source": [
    "sr.__version__"
   ]
  },
  {
   "cell_type": "code",
   "execution_count": 13,
   "metadata": {},
   "outputs": [],
   "source": [
    "r = sr.Recognizer()"
   ]
  },
  {
   "cell_type": "code",
   "execution_count": 15,
   "metadata": {},
   "outputs": [
    {
     "name": "stdout",
     "output_type": "stream",
     "text": [
      "Mic start\n",
      "Snakk nå\n",
      "Mic done\n"
     ]
    },
    {
     "ename": "TypeError",
     "evalue": "must be str, not int",
     "output_type": "error",
     "traceback": [
      "\u001b[0;31m---------------------------------------------------------------------------\u001b[0m",
      "\u001b[0;31mTypeError\u001b[0m                                 Traceback (most recent call last)",
      "\u001b[0;32m<ipython-input-15-caeda54efde9>\u001b[0m in \u001b[0;36m<module>\u001b[0;34m()\u001b[0m\n\u001b[1;32m      9\u001b[0m \u001b[0mtekst\u001b[0m \u001b[0;34m=\u001b[0m \u001b[0mr\u001b[0m\u001b[0;34m.\u001b[0m\u001b[0mrecognize_google\u001b[0m\u001b[0;34m(\u001b[0m\u001b[0maudio\u001b[0m\u001b[0;34m,\u001b[0m \u001b[0mlanguage\u001b[0m\u001b[0;34m=\u001b[0m\u001b[0;34m'no'\u001b[0m\u001b[0;34m)\u001b[0m\u001b[0;34m\u001b[0m\u001b[0m\n\u001b[1;32m     10\u001b[0m \u001b[0mledig_sykler\u001b[0m \u001b[0;34m=\u001b[0m \u001b[0mantall_ledig_sykler\u001b[0m\u001b[0;34m(\u001b[0m\u001b[0mtekst\u001b[0m\u001b[0;34m)\u001b[0m\u001b[0;34m\u001b[0m\u001b[0m\n\u001b[0;32m---> 11\u001b[0;31m \u001b[0mprint\u001b[0m\u001b[0;34m(\u001b[0m\u001b[0;34m\"Antall ledige sykler på \"\u001b[0m \u001b[0;34m+\u001b[0m \u001b[0mtekst\u001b[0m \u001b[0;34m+\u001b[0m \u001b[0mledig_sykler\u001b[0m\u001b[0;34m)\u001b[0m\u001b[0;34m\u001b[0m\u001b[0m\n\u001b[0m\u001b[1;32m     12\u001b[0m \u001b[0;31m#r.recognize_google(audio, language='no')\u001b[0m\u001b[0;34m\u001b[0m\u001b[0;34m\u001b[0m\u001b[0m\n",
      "\u001b[0;31mTypeError\u001b[0m: must be str, not int"
     ]
    }
   ],
   "source": [
    "mic = sr.Microphone()\n",
    "sr.Microphone.list_microphone_names()\n",
    "print(\"Mic start\")\n",
    "print(\"Snakk nå\")\n",
    "with mic as source:\n",
    "    audio = r.listen(source)\n",
    "\n",
    "print(\"Mic done\")\n",
    "tekst = r.recognize_google(audio, language='no')\n",
    "ledig_sykler = antall_ledig_sykler(tekst)\n",
    "print(\"Antall ledige sykler på \" + tekst + ledig_sykler)\n",
    "#r.recognize_google(audio, language='no')"
   ]
  },
  {
   "cell_type": "code",
   "execution_count": 17,
   "metadata": {},
   "outputs": [
    {
     "name": "stdout",
     "output_type": "stream",
     "text": [
      "Mic start\n",
      "Snakk nå\n",
      "Mic done\n",
      "Prøver å forstå hva du sier\n",
      "Jeg tror du sa:Hallo Hvor mange sykler er ledig på Badebakken\n"
     ]
    }
   ],
   "source": [
    "mic = sr.Microphone()\n",
    "sr.Microphone.list_microphone_names()\n",
    "print(\"Mic start\")\n",
    "print(\"Snakk nå\")\n",
    "with mic as source:\n",
    "    audio = r.listen(source)\n",
    "\n",
    "print(\"Mic done\")\n",
    "print(\"Prøver å forstå hva du sier\")\n",
    "tekst = r.recognize_google(audio, language='no')\n",
    "print(\"Jeg tror du sa:\" + tekst)"
   ]
  },
  {
   "cell_type": "code",
   "execution_count": 18,
   "metadata": {},
   "outputs": [
    {
     "ename": "ModuleNotFoundError",
     "evalue": "No module named 'AppKit'",
     "output_type": "error",
     "traceback": [
      "\u001b[0;31m---------------------------------------------------------------------------\u001b[0m",
      "\u001b[0;31mModuleNotFoundError\u001b[0m                       Traceback (most recent call last)",
      "\u001b[0;32m<ipython-input-18-51a54623a550>\u001b[0m in \u001b[0;36m<module>\u001b[0;34m()\u001b[0m\n\u001b[1;32m      9\u001b[0m \u001b[0;31m# the audio library of your choice\u001b[0m\u001b[0;34m\u001b[0m\u001b[0;34m\u001b[0m\u001b[0m\n\u001b[1;32m     10\u001b[0m \u001b[0;32mfrom\u001b[0m \u001b[0mplaysound\u001b[0m \u001b[0;32mimport\u001b[0m \u001b[0mplaysound\u001b[0m\u001b[0;34m\u001b[0m\u001b[0m\n\u001b[0;32m---> 11\u001b[0;31m \u001b[0mplaysound\u001b[0m\u001b[0;34m(\u001b[0m\u001b[0;34m'hello.mp3'\u001b[0m\u001b[0;34m)\u001b[0m\u001b[0;34m\u001b[0m\u001b[0m\n\u001b[0m",
      "\u001b[0;32m/anaconda3/lib/python3.6/site-packages/playsound.py\u001b[0m in \u001b[0;36m_playsoundOSX\u001b[0;34m(sound, block)\u001b[0m\n\u001b[1;32m     53\u001b[0m     \u001b[0mI\u001b[0m \u001b[0mnever\u001b[0m \u001b[0mwould\u001b[0m \u001b[0mhave\u001b[0m \u001b[0mtried\u001b[0m \u001b[0musing\u001b[0m \u001b[0mAppKit\u001b[0m\u001b[0;34m.\u001b[0m\u001b[0mNSSound\u001b[0m \u001b[0mwithout\u001b[0m \u001b[0mseeing\u001b[0m \u001b[0mhis\u001b[0m \u001b[0mcode\u001b[0m\u001b[0;34m.\u001b[0m\u001b[0;34m\u001b[0m\u001b[0m\n\u001b[1;32m     54\u001b[0m     '''\n\u001b[0;32m---> 55\u001b[0;31m     \u001b[0;32mfrom\u001b[0m \u001b[0mAppKit\u001b[0m     \u001b[0;32mimport\u001b[0m \u001b[0mNSSound\u001b[0m\u001b[0;34m\u001b[0m\u001b[0m\n\u001b[0m\u001b[1;32m     56\u001b[0m     \u001b[0;32mfrom\u001b[0m \u001b[0mFoundation\u001b[0m \u001b[0;32mimport\u001b[0m \u001b[0mNSURL\u001b[0m\u001b[0;34m\u001b[0m\u001b[0m\n\u001b[1;32m     57\u001b[0m     \u001b[0;32mfrom\u001b[0m \u001b[0mtime\u001b[0m       \u001b[0;32mimport\u001b[0m \u001b[0msleep\u001b[0m\u001b[0;34m\u001b[0m\u001b[0m\n",
      "\u001b[0;31mModuleNotFoundError\u001b[0m: No module named 'AppKit'"
     ]
    }
   ],
   "source": [
    "from gtts import gTTS\n",
    "from io import BytesIO\n",
    "\n",
    "mp3_fp = BytesIO()\n",
    "tts = gTTS('hallo', 'no')\n",
    "tts.save('hello.mp3')\n",
    "\n",
    "# Load `mp3_fp` as an mp3 file in\n",
    "# the audio library of your choice\n",
    "from playsound import playsound\n",
    "playsound('hello.mp3')"
   ]
  },
  {
   "cell_type": "code",
   "execution_count": 22,
   "metadata": {},
   "outputs": [
    {
     "name": "stdout",
     "output_type": "stream",
     "text": [
      "Mic start\n",
      "Snakk nå\n"
     ]
    },
    {
     "ename": "KeyboardInterrupt",
     "evalue": "",
     "output_type": "error",
     "traceback": [
      "\u001b[0;31m---------------------------------------------------------------------------\u001b[0m",
      "\u001b[0;31mKeyboardInterrupt\u001b[0m                         Traceback (most recent call last)",
      "\u001b[0;32m<ipython-input-22-25e2cc5df34c>\u001b[0m in \u001b[0;36m<module>\u001b[0;34m()\u001b[0m\n\u001b[1;32m      4\u001b[0m \u001b[0mprint\u001b[0m\u001b[0;34m(\u001b[0m\u001b[0;34m\"Snakk nå\"\u001b[0m\u001b[0;34m)\u001b[0m\u001b[0;34m\u001b[0m\u001b[0m\n\u001b[1;32m      5\u001b[0m \u001b[0;32mwith\u001b[0m \u001b[0mmic\u001b[0m \u001b[0;32mas\u001b[0m \u001b[0msource\u001b[0m\u001b[0;34m:\u001b[0m\u001b[0;34m\u001b[0m\u001b[0m\n\u001b[0;32m----> 6\u001b[0;31m     \u001b[0maudio\u001b[0m \u001b[0;34m=\u001b[0m \u001b[0mr\u001b[0m\u001b[0;34m.\u001b[0m\u001b[0mlisten\u001b[0m\u001b[0;34m(\u001b[0m\u001b[0msource\u001b[0m\u001b[0;34m)\u001b[0m\u001b[0;34m\u001b[0m\u001b[0m\n\u001b[0m\u001b[1;32m      7\u001b[0m \u001b[0;34m\u001b[0m\u001b[0m\n\u001b[1;32m      8\u001b[0m \u001b[0mprint\u001b[0m\u001b[0;34m(\u001b[0m\u001b[0;34m\"Mic done\"\u001b[0m\u001b[0;34m)\u001b[0m\u001b[0;34m\u001b[0m\u001b[0m\n",
      "\u001b[0;32m/anaconda3/lib/python3.6/site-packages/speech_recognition/__init__.py\u001b[0m in \u001b[0;36mlisten\u001b[0;34m(self, source, timeout, phrase_time_limit, snowboy_configuration)\u001b[0m\n\u001b[1;32m    650\u001b[0m                     \u001b[0;32mbreak\u001b[0m\u001b[0;34m\u001b[0m\u001b[0m\n\u001b[1;32m    651\u001b[0m \u001b[0;34m\u001b[0m\u001b[0m\n\u001b[0;32m--> 652\u001b[0;31m                 \u001b[0mbuffer\u001b[0m \u001b[0;34m=\u001b[0m \u001b[0msource\u001b[0m\u001b[0;34m.\u001b[0m\u001b[0mstream\u001b[0m\u001b[0;34m.\u001b[0m\u001b[0mread\u001b[0m\u001b[0;34m(\u001b[0m\u001b[0msource\u001b[0m\u001b[0;34m.\u001b[0m\u001b[0mCHUNK\u001b[0m\u001b[0;34m)\u001b[0m\u001b[0;34m\u001b[0m\u001b[0m\n\u001b[0m\u001b[1;32m    653\u001b[0m                 \u001b[0;32mif\u001b[0m \u001b[0mlen\u001b[0m\u001b[0;34m(\u001b[0m\u001b[0mbuffer\u001b[0m\u001b[0;34m)\u001b[0m \u001b[0;34m==\u001b[0m \u001b[0;36m0\u001b[0m\u001b[0;34m:\u001b[0m \u001b[0;32mbreak\u001b[0m  \u001b[0;31m# reached end of the stream\u001b[0m\u001b[0;34m\u001b[0m\u001b[0m\n\u001b[1;32m    654\u001b[0m                 \u001b[0mframes\u001b[0m\u001b[0;34m.\u001b[0m\u001b[0mappend\u001b[0m\u001b[0;34m(\u001b[0m\u001b[0mbuffer\u001b[0m\u001b[0;34m)\u001b[0m\u001b[0;34m\u001b[0m\u001b[0m\n",
      "\u001b[0;32m/anaconda3/lib/python3.6/site-packages/speech_recognition/__init__.py\u001b[0m in \u001b[0;36mread\u001b[0;34m(self, size)\u001b[0m\n\u001b[1;32m    159\u001b[0m \u001b[0;34m\u001b[0m\u001b[0m\n\u001b[1;32m    160\u001b[0m         \u001b[0;32mdef\u001b[0m \u001b[0mread\u001b[0m\u001b[0;34m(\u001b[0m\u001b[0mself\u001b[0m\u001b[0;34m,\u001b[0m \u001b[0msize\u001b[0m\u001b[0;34m)\u001b[0m\u001b[0;34m:\u001b[0m\u001b[0;34m\u001b[0m\u001b[0m\n\u001b[0;32m--> 161\u001b[0;31m             \u001b[0;32mreturn\u001b[0m \u001b[0mself\u001b[0m\u001b[0;34m.\u001b[0m\u001b[0mpyaudio_stream\u001b[0m\u001b[0;34m.\u001b[0m\u001b[0mread\u001b[0m\u001b[0;34m(\u001b[0m\u001b[0msize\u001b[0m\u001b[0;34m,\u001b[0m \u001b[0mexception_on_overflow\u001b[0m\u001b[0;34m=\u001b[0m\u001b[0;32mFalse\u001b[0m\u001b[0;34m)\u001b[0m\u001b[0;34m\u001b[0m\u001b[0m\n\u001b[0m\u001b[1;32m    162\u001b[0m \u001b[0;34m\u001b[0m\u001b[0m\n\u001b[1;32m    163\u001b[0m         \u001b[0;32mdef\u001b[0m \u001b[0mclose\u001b[0m\u001b[0;34m(\u001b[0m\u001b[0mself\u001b[0m\u001b[0;34m)\u001b[0m\u001b[0;34m:\u001b[0m\u001b[0;34m\u001b[0m\u001b[0m\n",
      "\u001b[0;32m/anaconda3/lib/python3.6/site-packages/pyaudio.py\u001b[0m in \u001b[0;36mread\u001b[0;34m(self, num_frames, exception_on_overflow)\u001b[0m\n\u001b[1;32m    606\u001b[0m                           paCanNotReadFromAnOutputOnlyStream)\n\u001b[1;32m    607\u001b[0m \u001b[0;34m\u001b[0m\u001b[0m\n\u001b[0;32m--> 608\u001b[0;31m         \u001b[0;32mreturn\u001b[0m \u001b[0mpa\u001b[0m\u001b[0;34m.\u001b[0m\u001b[0mread_stream\u001b[0m\u001b[0;34m(\u001b[0m\u001b[0mself\u001b[0m\u001b[0;34m.\u001b[0m\u001b[0m_stream\u001b[0m\u001b[0;34m,\u001b[0m \u001b[0mnum_frames\u001b[0m\u001b[0;34m,\u001b[0m \u001b[0mexception_on_overflow\u001b[0m\u001b[0;34m)\u001b[0m\u001b[0;34m\u001b[0m\u001b[0m\n\u001b[0m\u001b[1;32m    609\u001b[0m \u001b[0;34m\u001b[0m\u001b[0m\n\u001b[1;32m    610\u001b[0m     \u001b[0;32mdef\u001b[0m \u001b[0mget_read_available\u001b[0m\u001b[0;34m(\u001b[0m\u001b[0mself\u001b[0m\u001b[0;34m)\u001b[0m\u001b[0;34m:\u001b[0m\u001b[0;34m\u001b[0m\u001b[0m\n",
      "\u001b[0;31mKeyboardInterrupt\u001b[0m: "
     ]
    }
   ],
   "source": [
    "mic = sr.Microphone()\n",
    "sr.Microphone.list_microphone_names()\n",
    "print(\"Mic start\")\n",
    "print(\"Snakk nå\")\n",
    "with mic as source:\n",
    "    audio = r.listen(source)\n",
    "\n",
    "print(\"Mic done\")\n",
    "print(\"Prøver å forstå hva du sier\")\n",
    "tekst = r.recognize_google(audio, language='no')\n",
    "print(\"Jeg tror du sa:\" + tekst)\n",
    "\n",
    "from gtts import gTTS\n",
    "from io import BytesIO\n",
    "\n",
    "mp3_fp = BytesIO()\n",
    "tts = gTTS(tekst, 'no')\n",
    "tts.save('hello.mp3')\n",
    "'''\n",
    "# Load `mp3_fp` as an mp3 file in\n",
    "# the audio library of your choice\n",
    "from playsound import playsound\n",
    "playsound('hello.mp3')\n",
    "'''"
   ]
  },
  {
   "cell_type": "code",
   "execution_count": null,
   "metadata": {},
   "outputs": [],
   "source": []
  }
 ],
 "metadata": {
  "kernelspec": {
   "display_name": "Python 3",
   "language": "python",
   "name": "python3"
  },
  "language_info": {
   "codemirror_mode": {
    "name": "ipython",
    "version": 3
   },
   "file_extension": ".py",
   "mimetype": "text/x-python",
   "name": "python",
   "nbconvert_exporter": "python",
   "pygments_lexer": "ipython3",
   "version": "3.6.5"
  }
 },
 "nbformat": 4,
 "nbformat_minor": 2
}
